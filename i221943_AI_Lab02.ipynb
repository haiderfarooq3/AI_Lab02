{
  "nbformat": 4,
  "nbformat_minor": 0,
  "metadata": {
    "colab": {
      "provenance": [],
      "authorship_tag": "ABX9TyOjMK668yKyfR6dz1s7kJZd",
      "include_colab_link": true
    },
    "kernelspec": {
      "name": "python3",
      "display_name": "Python 3"
    },
    "language_info": {
      "name": "python"
    }
  },
  "cells": [
    {
      "cell_type": "markdown",
      "metadata": {
        "id": "view-in-github",
        "colab_type": "text"
      },
      "source": [
        "<a href=\"https://colab.research.google.com/github/haiderfarooq3/AI_Lab02/blob/main/i221943_AI_Lab02.ipynb\" target=\"_parent\"><img src=\"https://colab.research.google.com/assets/colab-badge.svg\" alt=\"Open In Colab\"/></a>"
      ]
    },
    {
      "cell_type": "markdown",
      "source": [
        "# **TASK ONE:**\n"
      ],
      "metadata": {
        "id": "ew6ib2IwhrJU"
      }
    },
    {
      "cell_type": "code",
      "execution_count": 22,
      "metadata": {
        "colab": {
          "base_uri": "https://localhost:8080/"
        },
        "id": "GgKjXGBbb9Sb",
        "outputId": "f9d2496a-a414-47f3-9fa1-fda27dd34fd2"
      },
      "outputs": [
        {
          "output_type": "stream",
          "name": "stdout",
          "text": [
            "Total Global Sales: 8920.44\n",
            "\n",
            "Game with Highest Global Sales: Wii Sports - 82.74 M\n",
            "\n",
            "Average Sales per Region:\n",
            " NA_Sales       0.264667\n",
            "EU_Sales       0.146652\n",
            "JP_Sales       0.077782\n",
            "Other_Sales    0.048063\n",
            "dtype: float64\n",
            "\n",
            "Top 5 Most Popular Genres:\n",
            " Genre\n",
            "Action          1751.18\n",
            "Sports          1330.93\n",
            "Shooter         1037.37\n",
            "Role-Playing     927.37\n",
            "Platform         831.37\n",
            "Name: Global_Sales, dtype: float64\n",
            "\n",
            "Total Sales for Each Genre in Each Region:\n",
            "               NA_Sales  EU_Sales  JP_Sales  Other_Sales\n",
            "Genre                                                  \n",
            "Action          877.83    525.00    159.95       187.38\n",
            "Adventure       105.80     64.13     52.07        16.81\n",
            "Fighting        223.59    101.32     87.35        36.68\n",
            "Misc            410.24    215.98    107.76        75.32\n",
            "Platform        447.05    201.63    130.77        51.59\n",
            "Puzzle          123.78     50.78     57.31        12.55\n",
            "Racing          359.42    238.39     56.69        77.27\n",
            "Role-Playing    327.28    188.06    352.31        59.61\n",
            "Shooter         582.60    313.27     38.28       102.69\n",
            "Simulation      183.31    113.38     63.70        31.52\n",
            "Sports          683.35    376.85    135.37       134.97\n",
            "Strategy         68.70     45.34     49.46        11.36\n",
            "\n",
            "Most Popular Genre in NA: Action\n",
            "\n",
            "Last 10 Rows of the Dataset:\n",
            "         Rank                                               Name Platform  \\\n",
            "16588  16591                                   Mega Brain Boost       DS   \n",
            "16589  16592  Chou Ezaru wa Akai Hana: Koi wa Tsuki ni Shiru...      PSV   \n",
            "16590  16593  Eiyuu Densetsu: Sora no Kiseki Material Collec...      PSP   \n",
            "16591  16594                                Myst IV: Revelation       PC   \n",
            "16592  16595                                           Plushees       DS   \n",
            "16593  16596                 Woody Woodpecker in Crazy Castle 5      GBA   \n",
            "16594  16597                      Men in Black II: Alien Escape       GC   \n",
            "16595  16598   SCORE International Baja 1000: The Official Game      PS2   \n",
            "16596  16599                                         Know How 2       DS   \n",
            "16597  16600                                   Spirits & Spells      GBA   \n",
            "\n",
            "         Year         Genre              Publisher  NA_Sales  EU_Sales  \\\n",
            "16588  2008.0        Puzzle  Majesco Entertainment      0.01      0.00   \n",
            "16589  2016.0        Action        dramatic create      0.00      0.00   \n",
            "16590  2007.0  Role-Playing     Falcom Corporation      0.00      0.00   \n",
            "16591  2004.0     Adventure                Ubisoft      0.01      0.00   \n",
            "16592  2008.0    Simulation              Destineer      0.01      0.00   \n",
            "16593  2002.0      Platform                  Kemco      0.01      0.00   \n",
            "16594  2003.0       Shooter             Infogrames      0.01      0.00   \n",
            "16595  2008.0        Racing             Activision      0.00      0.00   \n",
            "16596  2010.0        Puzzle               7G//AMES      0.00      0.01   \n",
            "16597  2003.0      Platform                Wanadoo      0.01      0.00   \n",
            "\n",
            "       JP_Sales  Other_Sales  Global_Sales  \n",
            "16588      0.00          0.0          0.01  \n",
            "16589      0.01          0.0          0.01  \n",
            "16590      0.01          0.0          0.01  \n",
            "16591      0.00          0.0          0.01  \n",
            "16592      0.00          0.0          0.01  \n",
            "16593      0.00          0.0          0.01  \n",
            "16594      0.00          0.0          0.01  \n",
            "16595      0.00          0.0          0.01  \n",
            "16596      0.00          0.0          0.01  \n",
            "16597      0.00          0.0          0.01  \n",
            "\n",
            "Top 3 Gaming Platforms by Global Sales:\n",
            " Platform\n",
            "PS2     1255.64\n",
            "X360     979.96\n",
            "PS3      957.84\n",
            "Name: Global_Sales, dtype: float64\n",
            "\n",
            "Market Share of Each Genre (% of Global Sales):\n",
            " Genre\n",
            "Action          19.631094\n",
            "Adventure        2.679688\n",
            "Fighting         5.032375\n",
            "Misc             9.079821\n",
            "Platform         9.319832\n",
            "Puzzle           2.745941\n",
            "Racing           8.206322\n",
            "Role-Playing    10.396012\n",
            "Shooter         11.629135\n",
            "Simulation       4.396644\n",
            "Sports          14.920004\n",
            "Strategy         1.963132\n",
            "Name: Global_Sales, dtype: float64\n",
            "\n",
            "Correlation Coefficient between NA Sales & EU Sales: 0.7677267483702631\n"
          ]
        }
      ],
      "source": [
        "import pandas as pd\n",
        "\n",
        "file_path = \"vgsalesGlobale.csv\"\n",
        "df = pd.read_csv(file_path)\n",
        "\n",
        "total_global_sales = df[\"Global_Sales\"].sum()\n",
        "highest_global_sales_game = df.loc[df[\"Global_Sales\"].idxmax(), [\"Name\", \"Global_Sales\"]]\n",
        "average_sales_per_region = df[[\"NA_Sales\", \"EU_Sales\", \"JP_Sales\", \"Other_Sales\"]].mean()\n",
        "top_5_genres = df.groupby(\"Genre\")[\"Global_Sales\"].sum().sort_values(ascending=False).head(5)\n",
        "genre_sales_by_region = df.groupby(\"Genre\")[[\"NA_Sales\", \"EU_Sales\", \"JP_Sales\", \"Other_Sales\"]].sum()\n",
        "most_popular_genre_na = genre_sales_by_region[\"NA_Sales\"].idxmax()\n",
        "last_10_rows = df.tail(10)\n",
        "top_3_platforms = df.groupby(\"Platform\")[\"Global_Sales\"].sum().sort_values(ascending=False).head(3)\n",
        "market_share_per_genre = (df.groupby(\"Genre\")[\"Global_Sales\"].sum() / total_global_sales) * 100\n",
        "correlation_na_eu = df[\"NA_Sales\"].corr(df[\"EU_Sales\"])\n",
        "\n",
        "print(\"Total Global Sales:\", total_global_sales)\n",
        "print(\"\\nGame with Highest Global Sales:\", highest_global_sales_game[\"Name\"], \"-\", highest_global_sales_game[\"Global_Sales\"], \"M\")\n",
        "print(\"\\nAverage Sales per Region:\\n\", average_sales_per_region)\n",
        "print(\"\\nTop 5 Most Popular Genres:\\n\", top_5_genres)\n",
        "print(\"\\nTotal Sales for Each Genre in Each Region:\\n\", genre_sales_by_region)\n",
        "print(\"\\nMost Popular Genre in NA:\", most_popular_genre_na)\n",
        "print(\"\\nLast 10 Rows of the Dataset:\\n\", last_10_rows)\n",
        "print(\"\\nTop 3 Gaming Platforms by Global Sales:\\n\", top_3_platforms)\n",
        "print(\"\\nMarket Share of Each Genre (% of Global Sales):\\n\", market_share_per_genre)\n",
        "print(\"\\nCorrelation Coefficient between NA Sales & EU Sales:\", correlation_na_eu)\n"
      ]
    },
    {
      "cell_type": "markdown",
      "source": [
        "# **TASK TWO:**"
      ],
      "metadata": {
        "id": "Nn_YAeG_hzTx"
      }
    },
    {
      "cell_type": "code",
      "source": [
        "dictionary = {\n",
        "    \"hello\": \"hola\",\n",
        "    \"goodbye\": \"adiós\",\n",
        "    \"please\": \"por favor\",\n",
        "    \"thank you\": \"gracias\",\n",
        "    \"sorry\": \"lo siento\",\n",
        "    \"one\": \"uno\",\n",
        "    \"two\": \"dos\",\n",
        "    \"three\": \"tres\",\n",
        "    \"four\": \"cuatro\",\n",
        "    \"five\": \"cinco\",\n",
        "    \"six\": \"seis\",\n",
        "    \"seven\": \"siete\",\n",
        "    \"eight\": \"ocho\",\n",
        "    \"nine\": \"nueve\",\n",
        "    \"ten\": \"diez\",\n",
        "}\n",
        "\n",
        "while True:\n",
        "    word = input(\"Enter an English word (or type 'exit' to quit): \").strip().lower()\n",
        "\n",
        "    if word == \"exit\":\n",
        "        print(\"Goodbye!\")\n",
        "        break\n",
        "\n",
        "    if word in dictionary:\n",
        "        print(f\"The Spanish translation of '{word}' is '{dictionary[word]}'.\")\n",
        "    else:\n",
        "        print(f\"Sorry, the translation for '{word}' is not available.\")\n"
      ],
      "metadata": {
        "colab": {
          "base_uri": "https://localhost:8080/"
        },
        "id": "xYb9_4e0h5Te",
        "outputId": "7673c8c6-5c9e-4fe7-ea87-5332a54441b8"
      },
      "execution_count": 23,
      "outputs": [
        {
          "output_type": "stream",
          "name": "stdout",
          "text": [
            "Enter an English word (or type 'exit' to quit): one\n",
            "The Spanish translation of 'one' is 'uno'.\n",
            "Enter an English word (or type 'exit' to quit): hello\n",
            "The Spanish translation of 'hello' is 'hola'.\n",
            "Enter an English word (or type 'exit' to quit): exit\n",
            "Goodbye!\n"
          ]
        }
      ]
    },
    {
      "cell_type": "markdown",
      "source": [
        "# **TASK THREE:**"
      ],
      "metadata": {
        "id": "zGQwy2BIik24"
      }
    },
    {
      "cell_type": "code",
      "source": [
        "def classify_emails(emails):\n",
        "    important_keywords = [\"meeting\", \"schedule\", \"urgent\", \"project\", \"deadline\", \"invoice\", \"appointment\"]\n",
        "    promotions_keywords = [\"sale\", \"discount\", \"offer\", \"deal\", \"limited time\", \"buy now\", \"promo\"]\n",
        "    spam_keywords = [\"winner\", \"prize\", \"lottery\", \"free money\", \"urgent action required\", \"click here\", \"unsubscribe\"]\n",
        "\n",
        "    important_emails = []\n",
        "    promotions_emails = []\n",
        "    spam_emails = []\n",
        "\n",
        "    for email in emails:\n",
        "        email_lower = email.lower()\n",
        "        if any(keyword in email_lower for keyword in important_keywords):\n",
        "            important_emails.append(email)\n",
        "        elif any(keyword in email_lower for keyword in promotions_keywords):\n",
        "            promotions_emails.append(email)\n",
        "        elif any(keyword in email_lower for keyword in spam_keywords):\n",
        "            spam_emails.append(email)\n",
        "        else:\n",
        "            important_emails.append(email)\n",
        "\n",
        "    return important_emails, promotions_emails, spam_emails\n",
        "\n",
        "\n",
        "emails_list = [\n",
        "    \"Your meeting is scheduled for tomorrow at 10 AM.\",\n",
        "    \"Limited time offer! Buy one get one free on all products.\",\n",
        "    \"Congratulations! You are a winner of our lottery prize.\",\n",
        "    \"Urgent: Please review the project deadline updates.\",\n",
        "    \"Big discount on electronics, shop now!\",\n",
        "    \"Invoice for your recent purchase is attached.\",\n",
        "    \"Click here to claim your free money!\",\n",
        "    \"Appointment confirmation for your doctor's visit.\",\n",
        "    \"You have been selected to receive a free prize!\",\n",
        "]\n",
        "\n",
        "important, promotions, spam = classify_emails(emails_list)\n",
        "\n",
        "print(\"Important Emails!!!:\")\n",
        "for email in important:\n",
        "    print(\"-\", email)\n",
        "\n",
        "print(\"\\n Promotions Emails:\")\n",
        "for email in promotions:\n",
        "    print(\"-\", email)\n",
        "\n",
        "print(\"\\n Spam Emails:\")\n",
        "for email in spam:\n",
        "    print(\"-\", email)\n"
      ],
      "metadata": {
        "colab": {
          "base_uri": "https://localhost:8080/"
        },
        "id": "ssqssLs6ioyq",
        "outputId": "af5f484f-4c8a-4062-91b6-58b27f009c6e"
      },
      "execution_count": 24,
      "outputs": [
        {
          "output_type": "stream",
          "name": "stdout",
          "text": [
            "Important Emails!!!:\n",
            "- Your meeting is scheduled for tomorrow at 10 AM.\n",
            "- Urgent: Please review the project deadline updates.\n",
            "- Invoice for your recent purchase is attached.\n",
            "- Appointment confirmation for your doctor's visit.\n",
            "\n",
            " Promotions Emails:\n",
            "- Limited time offer! Buy one get one free on all products.\n",
            "- Big discount on electronics, shop now!\n",
            "\n",
            " Spam Emails:\n",
            "- Congratulations! You are a winner of our lottery prize.\n",
            "- Click here to claim your free money!\n",
            "- You have been selected to receive a free prize!\n"
          ]
        }
      ]
    },
    {
      "cell_type": "markdown",
      "source": [
        "# **TASK FOUR:**"
      ],
      "metadata": {
        "id": "zs71I_6vjnQp"
      }
    },
    {
      "cell_type": "code",
      "source": [
        "products = {\n",
        "    1: \"AI Response Simulator\",\n",
        "    2: \"Investment Decision\",\n",
        "    3: \"Market Analysis Tool\"\n",
        "}\n",
        "\n",
        "shopping_cart = []\n",
        "\n",
        "print(\"Welcome to the Online Store!\")\n",
        "print(\"Available products:\")\n",
        "for key, value in products.items():\n",
        "    print(f\"{key}. {value}\")\n",
        "\n",
        "while True:\n",
        "    choice = input(\"\\nEnter the number of the product to add to the cart (or 'q' to checkout): \").strip().lower()\n",
        "\n",
        "    if choice == 'q':\n",
        "        break\n",
        "\n",
        "    if not choice.isdigit():\n",
        "        print(\"Invalid input! Please enter a valid number.\")\n",
        "        continue\n",
        "\n",
        "    choice = int(choice)\n",
        "\n",
        "    if choice in products:\n",
        "        shopping_cart.append(products[choice])\n",
        "        print(f\" '{products[choice]}' has been added to your cart.\")\n",
        "    else:\n",
        "        print(\" Invalid choice! Please select a valid product number.\")\n",
        "\n",
        "print(\"\\n Your Shopping Cart:\")\n",
        "if shopping_cart:\n",
        "    for item in shopping_cart:\n",
        "        print(\"-\", item)\n",
        "else:\n",
        "    print(\"Your cart is empty.\")\n",
        "\n",
        "print(\"\\n Thank you for shopping with us!\")\n"
      ],
      "metadata": {
        "colab": {
          "base_uri": "https://localhost:8080/"
        },
        "id": "Cl5A9OjjjrVj",
        "outputId": "e4a5e9a1-9e80-46e0-eb58-82e5502abb57"
      },
      "execution_count": 25,
      "outputs": [
        {
          "output_type": "stream",
          "name": "stdout",
          "text": [
            "Welcome to the Online Store!\n",
            "Available products:\n",
            "1. AI Response Simulator\n",
            "2. Investment Decision\n",
            "3. Market Analysis Tool\n",
            "\n",
            "Enter the number of the product to add to the cart (or 'q' to checkout): 3\n",
            " 'Market Analysis Tool' has been added to your cart.\n",
            "\n",
            "Enter the number of the product to add to the cart (or 'q' to checkout): 2\n",
            " 'Investment Decision' has been added to your cart.\n",
            "\n",
            "Enter the number of the product to add to the cart (or 'q' to checkout): Q\n",
            "\n",
            " Your Shopping Cart:\n",
            "- Market Analysis Tool\n",
            "- Investment Decision\n",
            "\n",
            " Thank you for shopping with us! Goodbye! 👋\n"
          ]
        }
      ]
    },
    {
      "cell_type": "markdown",
      "source": [
        "# **TASK FIVE:**"
      ],
      "metadata": {
        "id": "ZiU79CBKkFti"
      }
    },
    {
      "cell_type": "code",
      "source": [
        "import numpy as np\n",
        "\n",
        "array1 = np.array([[1, 2, 3], [4, 5, 6]])\n",
        "array2 = np.array([[7, 8, 9], [10, 11, 12]])\n",
        "\n",
        "addition_result = array1 + array2\n",
        "product_result = array1 * array2\n",
        "\n",
        "print(\"Element-wise Addition:\\n\", addition_result)\n",
        "print(\"\\nElement-wise Product:\\n\", product_result)\n"
      ],
      "metadata": {
        "colab": {
          "base_uri": "https://localhost:8080/"
        },
        "id": "w6QjVqAzkJLD",
        "outputId": "32a7cdff-a3dc-4a1d-8238-145e7d917339"
      },
      "execution_count": 26,
      "outputs": [
        {
          "output_type": "stream",
          "name": "stdout",
          "text": [
            "Element-wise Addition:\n",
            " [[ 8 10 12]\n",
            " [14 16 18]]\n",
            "\n",
            "Element-wise Product:\n",
            " [[ 7 16 27]\n",
            " [40 55 72]]\n"
          ]
        }
      ]
    },
    {
      "cell_type": "markdown",
      "source": [
        "# **TASK SIX:**"
      ],
      "metadata": {
        "id": "uCylnC6kkxPp"
      }
    },
    {
      "cell_type": "code",
      "source": [
        "import numpy as np\n",
        "\n",
        "array_1d = np.arange(12)\n",
        "\n",
        "array_2d = array_1d.reshape(3, 4)\n",
        "\n",
        "array_a = np.array([[1, 2, 3], [4, 5, 6]])\n",
        "array_b = np.array([[7, 8, 9], [10, 11, 12]])\n",
        "\n",
        "concatenated_horizontally = np.hstack((array_a, array_b))\n",
        "concatenated_vertically = np.vstack((array_a, array_b))\n",
        "\n",
        "print(\"Reshaped 2D Array (3×4):\\n\", array_2d)\n",
        "print(\"\\nConcatenated Horizontally:\\n\", concatenated_horizontally)\n",
        "print(\"\\nConcatenated Vertically:\\n\", concatenated_vertically)\n"
      ],
      "metadata": {
        "colab": {
          "base_uri": "https://localhost:8080/"
        },
        "id": "hq1i0JzCk0RD",
        "outputId": "3922294a-3099-4956-bad1-2f6799993272"
      },
      "execution_count": 27,
      "outputs": [
        {
          "output_type": "stream",
          "name": "stdout",
          "text": [
            "Reshaped 2D Array (3×4):\n",
            " [[ 0  1  2  3]\n",
            " [ 4  5  6  7]\n",
            " [ 8  9 10 11]]\n",
            "\n",
            "Concatenated Horizontally:\n",
            " [[ 1  2  3  7  8  9]\n",
            " [ 4  5  6 10 11 12]]\n",
            "\n",
            "Concatenated Vertically:\n",
            " [[ 1  2  3]\n",
            " [ 4  5  6]\n",
            " [ 7  8  9]\n",
            " [10 11 12]]\n"
          ]
        }
      ]
    },
    {
      "cell_type": "markdown",
      "source": [
        "# **TASK SEVEN:**"
      ],
      "metadata": {
        "id": "c_bjExHNk_O_"
      }
    },
    {
      "cell_type": "code",
      "source": [
        "my_list = [1, 2, 3, 4, 5]\n",
        "reversed_list = my_list[::-1]\n",
        "\n",
        "print(\"Original List:\", my_list)\n",
        "print(\"Reversed List:\", reversed_list)\n"
      ],
      "metadata": {
        "colab": {
          "base_uri": "https://localhost:8080/"
        },
        "id": "f3Igh0j_lDMA",
        "outputId": "4343ca19-41dc-4c84-bbc4-123d562adc71"
      },
      "execution_count": 28,
      "outputs": [
        {
          "output_type": "stream",
          "name": "stdout",
          "text": [
            "Original List: [1, 2, 3, 4, 5]\n",
            "Reversed List: [5, 4, 3, 2, 1]\n"
          ]
        }
      ]
    }
  ]
}